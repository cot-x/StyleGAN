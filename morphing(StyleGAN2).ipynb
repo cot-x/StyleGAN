{
 "cells": [
  {
   "cell_type": "code",
   "execution_count": null,
   "metadata": {},
   "outputs": [],
   "source": [
    "from StyleGAN2 import Generator"
   ]
  },
  {
   "cell_type": "code",
   "execution_count": null,
   "metadata": {},
   "outputs": [],
   "source": [
    "import os\n",
    "import numpy as np\n",
    "import torch\n",
    "import torch.nn as nn\n",
    "import torch.nn.functional as F\n",
    "import torch.optim as optim\n",
    "from torch.optim.lr_scheduler import CosineAnnealingLR\n",
    "from torch.autograd import Variable\n",
    "from torch.utils.data import Dataset, DataLoader\n",
    "from torchvision.datasets import ImageFolder\n",
    "from torchvision import transforms\n",
    "from torchvision.utils import save_image\n",
    "from tqdm import tqdm\n",
    "from PIL import Image, ImageFile\n",
    "from pickle import load, dump\n",
    "import cv2\n",
    "import time\n",
    "import argparse\n",
    "ImageFile.LOAD_TRUNCATED_IMAGES = True"
   ]
  },
  {
   "cell_type": "code",
   "execution_count": null,
   "metadata": {},
   "outputs": [],
   "source": [
    "def showImage(image):\n",
    "    %matplotlib inline\n",
    "    import matplotlib.pyplot as plt\n",
    "\n",
    "    PIL = transforms.ToPILImage()\n",
    "    ToTensor = transforms.ToTensor()\n",
    "\n",
    "    img = PIL(image)\n",
    "    fig = plt.figure(dpi=200)\n",
    "    ax = fig.add_subplot(1, 1, 1) # (row, col, num)\n",
    "    ax.set_xticks([])\n",
    "    ax.set_yticks([])\n",
    "    plt.imshow(img)\n",
    "    plt.show()"
   ]
  },
  {
   "cell_type": "code",
   "execution_count": null,
   "metadata": {},
   "outputs": [],
   "source": [
    "import matplotlib.pyplot as plt\n",
    "import matplotlib.animation as animation"
   ]
  },
  {
   "cell_type": "code",
   "execution_count": null,
   "metadata": {},
   "outputs": [],
   "source": [
    "use_cuda = torch.cuda.is_available()\n",
    "device = torch.device(\"cuda\" if use_cuda else \"cpu\")\n",
    "num_mapping = 8\n",
    "image_size = 64\n",
    "max_depth = int(np.log2(image_size)) - 2\n",
    "def num_fmap(stage):\n",
    "    base_size = image_size * 2\n",
    "    fmap_base = base_size * 4\n",
    "    fmap_max = base_size // 2\n",
    "    fmap_decay = 1.0\n",
    "    return min(int(fmap_base / (2.0 ** (stage * fmap_decay))), fmap_max)\n",
    "feed_dim = num_fmap(0)\n",
    "net = Generator(max_depth, num_fmap, num_mapping).to(device)\n",
    "net.load_state_dict(torch.load('weight_G.pth', map_location=device))"
   ]
  },
  {
   "cell_type": "code",
   "execution_count": null,
   "metadata": {},
   "outputs": [],
   "source": [
    "style_feeds = [torch.randn(1, feed_dim).to(device)]\n",
    "image, style = net(style_feeds)\n",
    "showImage(image[0])"
   ]
  },
  {
   "cell_type": "code",
   "execution_count": null,
   "metadata": {},
   "outputs": [],
   "source": [
    "feeds1 = style_feeds"
   ]
  },
  {
   "cell_type": "code",
   "execution_count": null,
   "metadata": {},
   "outputs": [],
   "source": [
    "style_feeds = [torch.randn(1, feed_dim).to(device)]\n",
    "image, style = net(style_feeds)\n",
    "showImage(image[0])"
   ]
  },
  {
   "cell_type": "code",
   "execution_count": null,
   "metadata": {},
   "outputs": [],
   "source": [
    "feeds2 = style_feeds"
   ]
  },
  {
   "cell_type": "code",
   "execution_count": null,
   "metadata": {},
   "outputs": [],
   "source": [
    "%matplotlib widget\n",
    "fig = plt.figure(dpi=200)\n",
    "ax = fig.add_subplot(1, 1, 1) # (row, col, num)\n",
    "ax.set_xticks([])\n",
    "ax.set_yticks([])\n",
    "images = []\n",
    "for i in range(300):\n",
    "    l = i / 300.0\n",
    "    x = l * feeds1[0] + (1 - l) * feeds2[0]\n",
    "    image, _ = net([x])\n",
    "    PIL = transforms.ToPILImage()\n",
    "    img = PIL(image[0])\n",
    "    images += [[plt.imshow(img, animated=True)]]\n",
    "ani = animation.ArtistAnimation(fig, images, interval=10, repeat_delay=1000)\n",
    "ani.save('anim.gif', writer=\"imagemagick\")\n",
    "plt.show()"
   ]
  }
 ],
 "metadata": {
  "kernelspec": {
   "display_name": "Python 3 (ipykernel)",
   "language": "python",
   "name": "python3"
  },
  "language_info": {
   "codemirror_mode": {
    "name": "ipython",
    "version": 3
   },
   "file_extension": ".py",
   "mimetype": "text/x-python",
   "name": "python",
   "nbconvert_exporter": "python",
   "pygments_lexer": "ipython3",
   "version": "3.11.0"
  }
 },
 "nbformat": 4,
 "nbformat_minor": 4
}
